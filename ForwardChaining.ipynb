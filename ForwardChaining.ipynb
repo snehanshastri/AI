{
  "nbformat": 4,
  "nbformat_minor": 0,
  "metadata": {
    "colab": {
      "provenance": [],
      "authorship_tag": "ABX9TyNc+q9MClYXi1aGz8zD33es",
      "include_colab_link": true
    },
    "kernelspec": {
      "name": "python3",
      "display_name": "Python 3"
    },
    "language_info": {
      "name": "python"
    }
  },
  "cells": [
    {
      "cell_type": "markdown",
      "metadata": {
        "id": "view-in-github",
        "colab_type": "text"
      },
      "source": [
        "<a href=\"https://colab.research.google.com/github/snehanshastri/AI/blob/main/ForwardChaining.ipynb\" target=\"_parent\"><img src=\"https://colab.research.google.com/assets/colab-badge.svg\" alt=\"Open In Colab\"/></a>"
      ]
    },
    {
      "cell_type": "code",
      "source": [
        "# Define the knowledge base as a list of rules and facts\n",
        "\n",
        "class KnowledgeBase:\n",
        "    def __init__(self):\n",
        "        self.facts = set()   # Set of known facts\n",
        "        self.rules = []      # List of rules\n",
        "\n",
        "    def add_fact(self, fact):\n",
        "        self.facts.add(fact)\n",
        "\n",
        "    def add_rule(self, rule):\n",
        "        self.rules.append(rule)\n",
        "\n",
        "    def infer(self):\n",
        "        inferred = True\n",
        "        while inferred:\n",
        "            inferred = False\n",
        "            for rule in self.rules:\n",
        "                if rule.apply(self.facts):\n",
        "                    inferred = True\n",
        "\n",
        "# Define the Rule class\n",
        "class Rule:\n",
        "    def __init__(self, premises, conclusion):\n",
        "        self.premises = premises  # List of conditions\n",
        "        self.conclusion = conclusion  # Conclusion to add if premises are met\n",
        "\n",
        "    def apply(self, facts):\n",
        "        if all(premise in facts for premise in self.premises):\n",
        "            if self.conclusion not in facts:\n",
        "                facts.add(self.conclusion)\n",
        "                print(f\"Inferred: {self.conclusion}\")\n",
        "                return True\n",
        "        return False\n",
        "\n",
        "# Initialize the knowledge base\n",
        "kb = KnowledgeBase()\n",
        "\n",
        "# Facts in the problem\n",
        "kb.add_fact(\"American(Robert)\")\n",
        "kb.add_fact(\"Missile(T1)\")\n",
        "kb.add_fact(\"Owns(A, T1)\")\n",
        "kb.add_fact(\"Enemy(A, America)\")\n",
        "\n",
        "# Rules based on the problem\n",
        "# 1. Missile(x) implies Weapon(x)\n",
        "kb.add_rule(Rule([\"Missile(T1)\"], \"Weapon(T1)\"))\n",
        "\n",
        "# 2. Enemy(x, America) implies Hostile(x)\n",
        "kb.add_rule(Rule([\"Enemy(A, America)\"], \"Hostile(A)\"))\n",
        "\n",
        "# 3. Missile(x) and Owns(A, x) imply Sells(Robert, x, A)\n",
        "kb.add_rule(Rule([\"Missile(T1)\", \"Owns(A, T1)\"], \"Sells(Robert, T1, A)\"))\n",
        "\n",
        "# 4. American(p) and Weapon(q) and Sells(p, q, r) and Hostile(r) imply Criminal(p)\n",
        "kb.add_rule(Rule([\"American(Robert)\", \"Weapon(T1)\", \"Sells(Robert, T1, A)\", \"Hostile(A)\"], \"Criminal(Robert)\"))\n",
        "\n",
        "# Infer new facts based on the rules\n",
        "kb.infer()\n",
        "\n",
        "# Check if Robert is a criminal\n",
        "if \"Criminal(Robert)\" in kb.facts:\n",
        "    print(\"Conclusion: Robert is a criminal.\")\n",
        "else:\n",
        "    print(\"Conclusion: Unable to prove Robert is a criminal.\")"
      ],
      "metadata": {
        "id": "wVGIpG_6XbwE",
        "colab": {
          "base_uri": "https://localhost:8080/"
        },
        "outputId": "78c005b1-0ee4-4d94-8bba-62163c7576fa"
      },
      "execution_count": 2,
      "outputs": [
        {
          "output_type": "stream",
          "name": "stdout",
          "text": [
            "Inferred: Weapon(T1)\n",
            "Inferred: Hostile(A)\n",
            "Inferred: Sells(Robert, T1, A)\n",
            "Inferred: Criminal(Robert)\n",
            "Conclusion: Robert is a criminal.\n"
          ]
        }
      ]
    }
  ]
}