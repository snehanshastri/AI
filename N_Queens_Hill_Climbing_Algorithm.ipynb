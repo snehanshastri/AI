{
  "nbformat": 4,
  "nbformat_minor": 0,
  "metadata": {
    "colab": {
      "provenance": [],
      "authorship_tag": "ABX9TyOAbeWqitOnib83VTxRTThb",
      "include_colab_link": true
    },
    "kernelspec": {
      "name": "python3",
      "display_name": "Python 3"
    },
    "language_info": {
      "name": "python"
    }
  },
  "cells": [
    {
      "cell_type": "markdown",
      "metadata": {
        "id": "view-in-github",
        "colab_type": "text"
      },
      "source": [
        "<a href=\"https://colab.research.google.com/github/snehanshastri/AI/blob/main/N_Queens_Hill_Climbing_Algorithm.ipynb\" target=\"_parent\"><img src=\"https://colab.research.google.com/assets/colab-badge.svg\" alt=\"Open In Colab\"/></a>"
      ]
    },
    {
      "cell_type": "code",
      "source": [
        "N = 4\n",
        "\n",
        "def print_board(solution):\n",
        "    for row in solution:\n",
        "        print(\" \".join(\"Q\" if col else \".\" for col in row))\n",
        "    print()\n",
        "\n",
        "def is_safe(board, row, col):\n",
        "    # Check this column on upper side\n",
        "    for i in range(row):\n",
        "        if board[i][col] == 1:\n",
        "            return False\n",
        "\n",
        "    # Check upper diagonal on left side\n",
        "    for i, j in zip(range(row, -1, -1), range(col, -1, -1)):\n",
        "        if j < 0:\n",
        "            break\n",
        "        if board[i][j] == 1:\n",
        "            return False\n",
        "\n",
        "    # Check upper diagonal on right side\n",
        "    for i, j in zip(range(row, -1, -1), range(col, N)):\n",
        "        if j >= N:\n",
        "            break\n",
        "        if board[i][j] == 1:\n",
        "            return False\n",
        "\n",
        "    return True\n",
        "\n",
        "def solve_n_queens(board, row, solutions):\n",
        "    if row == N:\n",
        "        solutions.append([row[:] for row in board])\n",
        "        return\n",
        "\n",
        "    for col in range(N):\n",
        "        if is_safe(board, row, col):\n",
        "            board[row][col] = 1  # Place queen\n",
        "            solve_n_queens(board, row + 1, solutions)  # Recur to place rest\n",
        "            board[row][col] = 0  # Backtrack\n",
        "\n",
        "def main():\n",
        "    board = [[0 for _ in range(N)] for _ in range(N)]\n",
        "    solutions = []\n",
        "\n",
        "    solve_n_queens(board, 0, solutions)\n",
        "\n",
        "    print(f\"Found {len(solutions)} solutions:\")\n",
        "    for solution in solutions:\n",
        "        print_board(solution)\n",
        "\n",
        "if __name__ == \"__main__\":\n",
        "    main()\n"
      ],
      "metadata": {
        "colab": {
          "base_uri": "https://localhost:8080/"
        },
        "id": "vPvHDEezrNUv",
        "outputId": "a0bbf931-1232-47d6-8bf5-378f759f356b"
      },
      "execution_count": null,
      "outputs": [
        {
          "output_type": "stream",
          "name": "stdout",
          "text": [
            "Found 2 solutions:\n",
            ". Q . .\n",
            ". . . Q\n",
            "Q . . .\n",
            ". . Q .\n",
            "\n",
            ". . Q .\n",
            "Q . . .\n",
            ". . . Q\n",
            ". Q . .\n",
            "\n"
          ]
        }
      ]
    },
    {
      "cell_type": "code",
      "source": [
        "from random import randint, choice\n",
        "\n",
        "N = 4\n",
        "\n",
        "def print_board(board):\n",
        "    for row in board:\n",
        "        print(\" \".join(\"Q\" if col else \".\" for col in row))\n",
        "    print()\n",
        "\n",
        "def calculate_cost(state):\n",
        "    attacking_pairs = 0\n",
        "    for i in range(N):\n",
        "        for j in range(i + 1, N):\n",
        "            if state[i] == state[j] or abs(state[i] - state[j]) == abs(i - j):\n",
        "                attacking_pairs += 1\n",
        "    return attacking_pairs\n",
        "\n",
        "def get_random_state():\n",
        "    return [randint(0, N - 1) for _ in range(N)]\n",
        "\n",
        "def get_neighbors(state):\n",
        "    neighbors = []\n",
        "    for i in range(N):\n",
        "        for j in range(N):\n",
        "            if j != state[i]:  # Change the position of the queen\n",
        "                new_state = state[:]\n",
        "                new_state[i] = j\n",
        "                neighbors.append(new_state)\n",
        "    return neighbors\n",
        "\n",
        "def hill_climbing():\n",
        "    current_state = get_random_state()\n",
        "    current_cost = calculate_cost(current_state)\n",
        "\n",
        "    while True:\n",
        "        neighbors = get_neighbors(current_state)\n",
        "        next_state = None\n",
        "        next_cost = current_cost\n",
        "\n",
        "        for neighbor in neighbors:\n",
        "            cost = calculate_cost(neighbor)\n",
        "            if cost < next_cost:\n",
        "                next_state = neighbor\n",
        "                next_cost = cost\n",
        "\n",
        "        if next_cost >= current_cost:  # No better neighbor found\n",
        "            break\n",
        "\n",
        "        current_state = next_state\n",
        "        current_cost = next_cost\n",
        "\n",
        "    return current_state, current_cost\n",
        "\n",
        "def main():\n",
        "    solution, cost = hill_climbing()\n",
        "\n",
        "    print(\"Final state (0-indexed rows for queens):\")\n",
        "    print(solution)\n",
        "    print(f\"Cost (attacking pairs): {cost}\")\n",
        "\n",
        "    if cost == 0:\n",
        "        board = [[0 for _ in range(N)] for _ in range(N)]\n",
        "        for i in range(N):\n",
        "            board[solution[i]][i] = 1\n",
        "        print_board(board)\n",
        "    else:\n",
        "        print(\"No solution found.\")\n",
        "\n",
        "if __name__ == \"__main__\":\n",
        "    main()\n"
      ],
      "metadata": {
        "id": "CYehoPRotgxe",
        "outputId": "abbabea2-8a54-4625-e75b-ea182fbf0bef",
        "colab": {
          "base_uri": "https://localhost:8080/"
        }
      },
      "execution_count": null,
      "outputs": [
        {
          "output_type": "stream",
          "name": "stdout",
          "text": [
            "Final state (0-indexed rows for queens):\n",
            "[2, 1, 3, 0]\n",
            "Cost (attacking pairs): 1\n",
            "No solution found.\n"
          ]
        }
      ]
    }
  ]
}