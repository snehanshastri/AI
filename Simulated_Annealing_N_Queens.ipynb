{
  "nbformat": 4,
  "nbformat_minor": 0,
  "metadata": {
    "colab": {
      "provenance": [],
      "authorship_tag": "ABX9TyMtVYhULWmHeJCtM6NWK5Yx",
      "include_colab_link": true
    },
    "kernelspec": {
      "name": "python3",
      "display_name": "Python 3"
    },
    "language_info": {
      "name": "python"
    }
  },
  "cells": [
    {
      "cell_type": "markdown",
      "metadata": {
        "id": "view-in-github",
        "colab_type": "text"
      },
      "source": [
        "<a href=\"https://colab.research.google.com/github/snehanshastri/AI/blob/main/Simulated_Annealing_N_Queens.ipynb\" target=\"_parent\"><img src=\"https://colab.research.google.com/assets/colab-badge.svg\" alt=\"Open In Colab\"/></a>"
      ]
    },
    {
      "cell_type": "code",
      "source": [
        "!pip install mlrose-hiive\n"
      ],
      "metadata": {
        "colab": {
          "base_uri": "https://localhost:8080/"
        },
        "id": "u5EQUAinfuAk",
        "outputId": "c3039b7b-316f-4b59-d7f1-6cb4db6f24e7"
      },
      "execution_count": 5,
      "outputs": [
        {
          "output_type": "stream",
          "name": "stdout",
          "text": [
            "Requirement already satisfied: mlrose-hiive in /usr/local/lib/python3.10/dist-packages (2.2.4)\n",
            "Requirement already satisfied: numpy in /usr/local/lib/python3.10/dist-packages (from mlrose-hiive) (1.26.4)\n",
            "Requirement already satisfied: scipy in /usr/local/lib/python3.10/dist-packages (from mlrose-hiive) (1.13.1)\n",
            "Requirement already satisfied: scikit-learn in /usr/local/lib/python3.10/dist-packages (from mlrose-hiive) (1.5.2)\n",
            "Requirement already satisfied: pandas in /usr/local/lib/python3.10/dist-packages (from mlrose-hiive) (2.2.2)\n",
            "Requirement already satisfied: networkx in /usr/local/lib/python3.10/dist-packages (from mlrose-hiive) (3.4.2)\n",
            "Requirement already satisfied: joblib in /usr/local/lib/python3.10/dist-packages (from mlrose-hiive) (1.4.2)\n",
            "Requirement already satisfied: python-dateutil>=2.8.2 in /usr/local/lib/python3.10/dist-packages (from pandas->mlrose-hiive) (2.8.2)\n",
            "Requirement already satisfied: pytz>=2020.1 in /usr/local/lib/python3.10/dist-packages (from pandas->mlrose-hiive) (2024.2)\n",
            "Requirement already satisfied: tzdata>=2022.7 in /usr/local/lib/python3.10/dist-packages (from pandas->mlrose-hiive) (2024.2)\n",
            "Requirement already satisfied: threadpoolctl>=3.1.0 in /usr/local/lib/python3.10/dist-packages (from scikit-learn->mlrose-hiive) (3.5.0)\n",
            "Requirement already satisfied: six>=1.5 in /usr/local/lib/python3.10/dist-packages (from python-dateutil>=2.8.2->pandas->mlrose-hiive) (1.16.0)\n"
          ]
        }
      ]
    },
    {
      "cell_type": "code",
      "source": [
        "!pip install joblib\n"
      ],
      "metadata": {
        "colab": {
          "base_uri": "https://localhost:8080/"
        },
        "id": "eVA6iHmJgFDH",
        "outputId": "3d54a7de-e929-4e3c-f503-c44aad3a64de"
      },
      "execution_count": 7,
      "outputs": [
        {
          "output_type": "stream",
          "name": "stdout",
          "text": [
            "Requirement already satisfied: joblib in /usr/local/lib/python3.10/dist-packages (1.4.2)\n"
          ]
        }
      ]
    },
    {
      "cell_type": "code",
      "source": [
        "!pip install joblib==1.2.0 # Install the joblib version 1.2.0 that contains the my_exceptions module"
      ],
      "metadata": {
        "colab": {
          "base_uri": "https://localhost:8080/",
          "height": 288
        },
        "id": "bp8RvKKigTXJ",
        "outputId": "efa15b5b-6145-440f-e2c1-9de897565bdb"
      },
      "execution_count": 9,
      "outputs": [
        {
          "output_type": "stream",
          "name": "stdout",
          "text": [
            "Collecting joblib==1.2.0\n",
            "  Downloading joblib-1.2.0-py3-none-any.whl.metadata (5.3 kB)\n",
            "Downloading joblib-1.2.0-py3-none-any.whl (297 kB)\n",
            "\u001b[?25l   \u001b[90m━━━━━━━━━━━━━━━━━━━━━━━━━━━━━━━━━━━━━━━━\u001b[0m \u001b[32m0.0/298.0 kB\u001b[0m \u001b[31m?\u001b[0m eta \u001b[36m-:--:--\u001b[0m\r\u001b[2K   \u001b[91m━━━━━━━━━━━━━━━━━━━━━━━━━━━━━━━━━━━━━━━\u001b[0m\u001b[91m╸\u001b[0m \u001b[32m297.0/298.0 kB\u001b[0m \u001b[31m9.0 MB/s\u001b[0m eta \u001b[36m0:00:01\u001b[0m\r\u001b[2K   \u001b[90m━━━━━━━━━━━━━━━━━━━━━━━━━━━━━━━━━━━━━━━━\u001b[0m \u001b[32m298.0/298.0 kB\u001b[0m \u001b[31m5.9 MB/s\u001b[0m eta \u001b[36m0:00:00\u001b[0m\n",
            "\u001b[?25hInstalling collected packages: joblib\n",
            "  Attempting uninstall: joblib\n",
            "    Found existing installation: joblib 1.4.2\n",
            "    Uninstalling joblib-1.4.2:\n",
            "      Successfully uninstalled joblib-1.4.2\n",
            "Successfully installed joblib-1.2.0\n"
          ]
        },
        {
          "output_type": "display_data",
          "data": {
            "application/vnd.colab-display-data+json": {
              "pip_warning": {
                "packages": [
                  "joblib"
                ]
              },
              "id": "1aa4adf349a849ecbf6da029ded17e95"
            }
          },
          "metadata": {}
        }
      ]
    },
    {
      "cell_type": "code",
      "source": [
        "import mlrose_hiive as mlrose\n",
        "import numpy as np\n",
        "\n",
        "# Define the objective function\n",
        "def queens_max(position):\n",
        "    no_attack_on_j = 0\n",
        "    queen_not_attacking = 0\n",
        "    for i in range(len(position) - 1):\n",
        "        no_attack_on_j = i\n",
        "        for j in range(i + 1, len(position)):\n",
        "            if (position[j] != position[i] and\n",
        "                position[j] != position[i] + (j - i) and\n",
        "                position[j] != position[i] - (j - i)):\n",
        "                no_attack_on_j += 1\n",
        "            if (no_attack_on_j == len(position) - i - 1):\n",
        "                queen_not_attacking += 1\n",
        "    if(queen_not_attacking == 7):\n",
        "        queen_not_attacking += 1\n",
        "    return queen_not_attacking\n",
        "\n",
        "# Define the fitness function\n",
        "objective = mlrose.CustomFitness(queens_max)\n",
        "\n",
        "# Define the optimization problem\n",
        "problem = mlrose.DiscreteOpt(length=8, fitness_fn=objective, maximize=True, max_val=8)\n",
        "\n",
        "# Define the annealing schedule and other parameters\n",
        "T = mlrose.ExpDecay()\n",
        "initial_position = np.array([4, 6, 1, 5, 2, 0, 3, 7])\n",
        "\n",
        "# Run simulated annealing, assigning the extra return value to _\n",
        "best_position, best_objective, _ = mlrose.simulated_annealing(problem=problem, schedule=T,max_attempts=500, max_iters=1000, init_state=initial_position)\n",
        "\n",
        "# Print the results\n",
        "print(\"The best position found is:\", best_position)\n",
        "print(\"The number of queens that are not attacking each other is:\", best_objective)"
      ],
      "metadata": {
        "colab": {
          "base_uri": "https://localhost:8080/"
        },
        "id": "MP7ioj0vevaX",
        "outputId": "b30a55a8-7c19-4379-9e91-a86bd0ec0b71"
      },
      "execution_count": 6,
      "outputs": [
        {
          "output_type": "stream",
          "name": "stdout",
          "text": [
            "The best position found is: [6 1 3 7 6 2 7 3]\n",
            "The number of queens that are not attacking each other is: 8.0\n"
          ]
        }
      ]
    },
    {
      "cell_type": "code",
      "source": [
        "\n",
        "import matplotlib.pyplot as plt\n",
        "import numpy as np\n",
        "import mlrose_hiive as mlrose\n",
        "\n",
        "# ... (Your existing code for the 8-queens problem) ...\n",
        "import mlrose_hiive as mlrose\n",
        "import numpy as np\n",
        "\n",
        "# Define the objective function\n",
        "def queens_max(position):\n",
        "    no_attack_on_j = 0\n",
        "    queen_not_attacking = 0\n",
        "    for i in range(len(position) - 1):\n",
        "        no_attack_on_j = i\n",
        "        for j in range(i + 1, len(position)):\n",
        "            if (position[j] != position[i] and\n",
        "                position[j] != position[i] + (j - i) and\n",
        "                position[j] != position[i] - (j - i)):\n",
        "                no_attack_on_j += 1\n",
        "            if (no_attack_on_j == len(position) - i - 1):\n",
        "                queen_not_attacking += 1\n",
        "    if(queen_not_attacking == 7):\n",
        "        queen_not_attacking += 1\n",
        "    return queen_not_attacking\n",
        "\n",
        "# Define the fitness function\n",
        "objective = mlrose.CustomFitness(queens_max)\n",
        "\n",
        "# Define the optimization problem\n",
        "problem = mlrose.DiscreteOpt(length=8, fitness_fn=objective, maximize=True, max_val=8)\n",
        "\n",
        "# Define the annealing schedule and other parameters\n",
        "T = mlrose.ExpDecay()\n",
        "initial_position = np.array([4, 6, 1, 5, 2, 0, 3, 7])\n",
        "\n",
        "# Run simulated annealing, assigning the extra return value to _\n",
        "best_position, best_objective, _ = mlrose.simulated_annealing(problem=problem, schedule=T,max_attempts=500, max_iters=1000, init_state=initial_position)\n",
        "\n",
        "# Print the results\n",
        "print(\"The best position found is:\", best_position)\n",
        "print(\"The number of queens that are not attacking each other is:\", best_objective)\n",
        "\n",
        "# Function to visualize the solution on a chessboard\n",
        "def visualize_queens(positions):\n",
        "    \"\"\"Visualizes the solution on a chessboard.\n",
        "\n",
        "    Args:\n",
        "        positions: A list or array representing the positions of the queens.\n",
        "    \"\"\"\n",
        "    board_size = len(positions)\n",
        "    board = np.zeros((board_size, board_size), dtype=int)\n",
        "\n",
        "    for i, pos in enumerate(positions):\n",
        "        board[i, pos] = 1  # Place queen (1) on the board\n",
        "\n",
        "    # Create the chessboard visualization\n",
        "    fig, ax = plt.subplots()\n",
        "    ax.imshow(board, cmap='binary')  # Use binary colormap for black and white\n",
        "\n",
        "    # Add grid lines and labels\n",
        "    ax.set_xticks(np.arange(board_size))\n",
        "    ax.set_yticks(np.arange(board_size))\n",
        "    ax.set_xticklabels([])  # Remove x-axis labels\n",
        "    ax.set_yticklabels([])  # Remove y-axis labels\n",
        "    ax.grid(True, color='black')\n",
        "\n",
        "    # Add queen markers (optional)\n",
        "    for i, pos in enumerate(positions):\n",
        "        ax.text(pos, i, 'Q', ha='center', va='center', color='red', fontsize=12)\n",
        "\n",
        "    plt.title(\"8-Queens Solution\")\n",
        "    plt.show()\n",
        "\n",
        "# Visualize the best solution\n",
        "visualize_queens(best_position)"
      ],
      "metadata": {
        "colab": {
          "base_uri": "https://localhost:8080/",
          "height": 468
        },
        "id": "Q9RihhHWiNLs",
        "outputId": "1fb58732-e0ac-4dd1-cb9c-786f0e1855a4"
      },
      "execution_count": 11,
      "outputs": [
        {
          "output_type": "stream",
          "name": "stdout",
          "text": [
            "The best position found is: [5 7 0 4 6 4 4 0]\n",
            "The number of queens that are not attacking each other is: 9.0\n"
          ]
        },
        {
          "output_type": "display_data",
          "data": {
            "text/plain": [
              "<Figure size 640x480 with 1 Axes>"
            ],
            "image/png": "[encoded data removed]"
          },
          "metadata": {}
        }
      ]
    },
    {
      "cell_type": "code",
      "source": [
        "import random\n",
        "import math\n",
        "import matplotlib.pyplot as plt\n",
        "\n",
        "# Generate an initial solution with unique columns for each queen\n",
        "def create_initial_solution(n):\n",
        "    return random.sample(range(n), n)  # A permutation of column indices (unique columns)\n",
        "\n",
        "# Calculate the number of diagonal conflicts\n",
        "def calculate_fitness(state):\n",
        "    diagonal_conflicts = 0\n",
        "    n = len(state)\n",
        "\n",
        "    for i in range(n):\n",
        "        for j in range(i + 1, n):\n",
        "            if abs(state[i] - state[j]) == abs(i - j):  # Check if they are on the same diagonal\n",
        "                diagonal_conflicts += 1\n",
        "\n",
        "    return diagonal_conflicts\n",
        "\n",
        "# Generate a neighboring solution by swapping two columns\n",
        "def random_neighbor(state):\n",
        "    neighbor = state[:]\n",
        "    i, j = random.sample(range(len(state)), 2)  # Pick two different rows to swap\n",
        "    neighbor[i], neighbor[j] = neighbor[j], neighbor[i]\n",
        "    return neighbor\n",
        "\n",
        "# Simulated Annealing Algorithm\n",
        "def simulated_annealing(n, initial_temp=1000, cooling_rate=0.95, max_iterations=1000):\n",
        "    current_solution = create_initial_solution(n)\n",
        "    current_fitness = calculate_fitness(current_solution)\n",
        "    best_solution = current_solution\n",
        "    best_fitness = current_fitness\n",
        "    temperature = initial_temp\n",
        "\n",
        "    for iteration in range(max_iterations):\n",
        "        neighbor = random_neighbor(current_solution)\n",
        "        neighbor_fitness = calculate_fitness(neighbor)\n",
        "\n",
        "        fitness_diff = neighbor_fitness - current_fitness\n",
        "\n",
        "        # Accept the neighbor if it improves the solution or based on the annealing probability\n",
        "        if fitness_diff < 0 or random.uniform(0, 1) < math.exp(-fitness_diff / temperature):\n",
        "            current_solution = neighbor\n",
        "            current_fitness = neighbor_fitness\n",
        "\n",
        "            # Update the best solution if the current one is better\n",
        "            if current_fitness < best_fitness:\n",
        "                best_solution = current_solution\n",
        "                best_fitness = current_fitness\n",
        "\n",
        "        # Cool down the temperature\n",
        "        temperature *= cooling_rate\n",
        "\n",
        "    return best_solution, best_fitness\n",
        "\n",
        "# Visualize the chessboard and queens\n",
        "def plot_solution(solution):\n",
        "    n = len(solution)\n",
        "    plt.figure(figsize=(n, n))\n",
        "    plt.xlim(-1, n)\n",
        "    plt.ylim(-1, n)\n",
        "\n",
        "    # Draw the chessboard\n",
        "    for i in range(n):\n",
        "        for j in range(n):\n",
        "            if (i + j) % 2 == 0:\n",
        "                plt.gca().add_patch(plt.Rectangle((j, i), 1, 1, color='lightgrey'))\n",
        "\n",
        "    # Place the queens\n",
        "    for col, row in enumerate(solution):\n",
        "        plt.gca().add_patch(plt.Circle((col + 0.5, row + 0.5), 0.4, color='purple'))\n",
        "\n",
        "    plt.xticks(range(n))\n",
        "    plt.yticks(range(n))\n",
        "    plt.gca().invert_yaxis()\n",
        "    plt.grid(False)\n",
        "    plt.show()\n",
        "\n",
        "# Parameters\n",
        "n = 8  # Number of queens\n",
        "best_solution, best_fitness = simulated_annealing(n)\n",
        "\n",
        "# Output results\n",
        "print(f\"Best state (Queen positions): {best_solution}, Number of conflicts: {best_fitness}\")\n",
        "\n",
        "# Plot the solution\n",
        "plot_solution(best_solution)\n"
      ],
      "metadata": {
        "colab": {
          "base_uri": "https://localhost:8080/",
          "height": 693
        },
        "id": "gTyEWMmJnkGa",
        "outputId": "04ce715a-15cc-4a69-884e-0396708668a4"
      },
      "execution_count": 22,
      "outputs": [
        {
          "output_type": "stream",
          "name": "stdout",
          "text": [
            "Best state (Queen positions): [5, 2, 6, 1, 3, 7, 0, 4], Number of conflicts: 0\n"
          ]
        },
        {
          "output_type": "display_data",
          "data": {
            "text/plain": [
              "<Figure size 800x800 with 1 Axes>"
            ],
            "image/png": "[encoded data removed]"
          },
          "metadata": {}
        }
      ]
    }
  ]
}