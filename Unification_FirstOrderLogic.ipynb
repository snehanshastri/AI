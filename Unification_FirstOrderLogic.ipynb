{
  "nbformat": 4,
  "nbformat_minor": 0,
  "metadata": {
    "colab": {
      "provenance": [],
      "authorship_tag": "ABX9TyNEzuweg/JUMF4znEkaYIKG",
      "include_colab_link": true
    },
    "kernelspec": {
      "name": "python3",
      "display_name": "Python 3"
    },
    "language_info": {
      "name": "python"
    }
  },
  "cells": [
    {
      "cell_type": "markdown",
      "metadata": {
        "id": "view-in-github",
        "colab_type": "text"
      },
      "source": [
        "<a href=\"https://colab.research.google.com/github/snehanshastri/AI/blob/main/Unification_FirstOrderLogic.ipynb\" target=\"_parent\"><img src=\"https://colab.research.google.com/assets/colab-badge.svg\" alt=\"Open In Colab\"/></a>"
      ]
    },
    {
      "cell_type": "code",
      "execution_count": 15,
      "metadata": {
        "colab": {
          "base_uri": "https://localhost:8080/"
        },
        "id": "rd8bcxc8xvV6",
        "outputId": "d945a498-abcc-490c-e2fc-711a67822cc9"
      },
      "outputs": [
        {
          "output_type": "stream",
          "name": "stdout",
          "text": [
            "Enter the first expression (e.g., ['P', '?x', 'a']):\n",
            "['P', 'a', '?X', ['f', '?Y']]\n",
            "Enter the second expression (e.g., ['P', 'b', 'a']):\n",
            "['P', '?Z', 'b', ['f', 'c']]\n",
            "Unification Succeeded\n",
            "Substitutions:\n",
            "?Z -> a\n",
            "?X -> b\n",
            "?Y -> c\n"
          ]
        }
      ],
      "source": [
        "def occurs_in(var, expr):\n",
        "    \"\"\"Check if a variable occurs in an expression.\"\"\"\n",
        "    if isinstance(expr, list):\n",
        "        return any(occurs_in(var, sub_expr) for sub_expr in expr)\n",
        "    return var == expr\n",
        "\n",
        "def unify(x, y, subst):\n",
        "    \"\"\"Recursive unification function.\"\"\"\n",
        "    if subst is None:\n",
        "        return None  # Failure\n",
        "    elif x == y:\n",
        "        return subst  # No substitution needed\n",
        "    elif isinstance(x, str) and x.startswith('?'):\n",
        "        # x is a variable\n",
        "        if occurs_in(x, y):\n",
        "            return None  # Failure (occurs check)\n",
        "        return {**subst, x: y}  # Add substitution\n",
        "    elif isinstance(y, str) and y.startswith('?'):\n",
        "        # y is a variable\n",
        "        if occurs_in(y, x):\n",
        "            return None  # Failure (occurs check)\n",
        "        return {**subst, y: x}  # Add substitution\n",
        "    elif isinstance(x, list) and isinstance(y, list) and len(x) == len(y):\n",
        "        # Unify element-wise\n",
        "        for xi, yi in zip(x, y):\n",
        "            subst = unify(xi, yi, subst)\n",
        "            if subst is None:\n",
        "                return None\n",
        "        return subst\n",
        "    else:\n",
        "        return None  # Failure\n",
        "\n",
        "\n",
        "def unification_algorithm(expr1, expr2):\n",
        "    \"\"\"Main function to unify two expressions.\"\"\"\n",
        "    subst = unify(expr1, expr2, {})\n",
        "    if subst is None:\n",
        "        print(\"Unification Failed\")\n",
        "    else:\n",
        "        print(\"Unification Succeeded\")\n",
        "        print(\"Substitutions:\")\n",
        "        for var, val in subst.items():\n",
        "            print(f\"{var} -> {val}\")\n",
        "\n",
        "\n",
        "def parse_input(expr):\n",
        "    \"\"\"Parses a user input expression into a nested list.\"\"\"\n",
        "    try:\n",
        "        return eval(expr)  # Convert input string to list structure\n",
        "    except:\n",
        "        print(\"Invalid input. Ensure the expression is in proper format.\")\n",
        "        return None\n",
        "\n",
        "if __name__ == \"__main__\":\n",
        "    print(\"Enter the first expression (e.g., ['P', '?x', 'a']):\")\n",
        "    expr1 = parse_input(input())\n",
        "    print(\"Enter the second expression (e.g., ['P', 'b', 'a']):\")\n",
        "    expr2 = parse_input(input())\n",
        "\n",
        "    if expr1 is not None and expr2 is not None:\n",
        "        unification_algorithm(expr1, expr2)\n",
        "    else:\n",
        "        print(\"Could not process input. Please try again.\")\n"
      ]
    }
  ]
}